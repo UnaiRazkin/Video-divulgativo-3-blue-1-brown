{
 "cells": [
  {
   "cell_type": "code",
   "execution_count": 1,
   "id": "d8ca83a4",
   "metadata": {},
   "outputs": [
    {
     "data": {
      "text/html": [
       "<pre style=\"white-space:pre;overflow-x:auto;line-height:normal;font-family:Menlo,'DejaVu Sans Mono',consolas,'Courier New',monospace\">Manim Community <span style=\"color: #008000; text-decoration-color: #008000\">v0.17.3</span>\n",
       "\n",
       "</pre>\n"
      ],
      "text/plain": [
       "Manim Community \u001b[32mv0.\u001b[0m\u001b[32m17.3\u001b[0m\n",
       "\n"
      ]
     },
     "metadata": {},
     "output_type": "display_data"
    }
   ],
   "source": [
    "from manim import *\n",
    "\n",
    "config.media_width = \"75%\"\n",
    "config.verbosity = \"WARNING\""
   ]
  },
  {
   "cell_type": "code",
   "execution_count": 3,
   "id": "9b300905",
   "metadata": {},
   "outputs": [
    {
     "name": "stderr",
     "output_type": "stream",
     "text": [
      "                                                                                \r"
     ]
    },
    {
     "data": {
      "text/html": [
       "<video src=\"media/jupyter/SquareToCircle@2025-05-05@23-58-53.mp4\" controls autoplay loop style=\"max-width: 75%;\"  >\n",
       "      Your browser does not support the <code>video</code> element.\n",
       "    </video>"
      ],
      "text/plain": [
       "<IPython.core.display.Video object>"
      ]
     },
     "metadata": {},
     "output_type": "display_data"
    }
   ],
   "source": [
    "%%manim -qm -v WARNING SquareToCircle\n",
    "\n",
    "class SquareToCircle(Scene):\n",
    "   def construct(self):\n",
    "      square = Square()\n",
    "      circle = Circle()\n",
    "      circle.set_fill(PINK, opacity=0.5)\n",
    "      self.play(Create(square))\n",
    "      self.play(Transform(square, circle))\n",
    "      self.wait()"
   ]
  },
  {
   "cell_type": "code",
   "execution_count": 4,
   "id": "14a582db",
   "metadata": {},
   "outputs": [
    {
     "name": "stderr",
     "output_type": "stream",
     "text": [
      "                                                                                \r"
     ]
    },
    {
     "data": {
      "text/html": [
       "<video src=\"media/jupyter/CountingScene@2025-05-05@23-59-32.mp4\" controls autoplay loop style=\"max-width: 75%;\"  >\n",
       "      Your browser does not support the <code>video</code> element.\n",
       "    </video>"
      ],
      "text/plain": [
       "<IPython.core.display.Video object>"
      ]
     },
     "metadata": {},
     "output_type": "display_data"
    }
   ],
   "source": [
    "%%manim -qm -v WARNING CountingScene\n",
    "class Count(Animation):\n",
    "    def __init__(self, number: DecimalNumber, start: float, end: float, **kwargs) -> None:\n",
    "        # Pass number as the mobject of the animation\n",
    "        super().__init__(number,  **kwargs)\n",
    "        # Set start and end\n",
    "        self.start = start\n",
    "        self.end = end\n",
    "\n",
    "    def interpolate_mobject(self, alpha: float) -> None:\n",
    "        # Set value of DecimalNumber according to alpha\n",
    "        value = self.start + (alpha * (self.end - self.start))\n",
    "        self.mobject.set_value(value)\n",
    "\n",
    "\n",
    "class CountingScene(Scene):\n",
    "    def construct(self):\n",
    "        # Create Decimal Number and add it to scene\n",
    "        number = DecimalNumber().set_color(WHITE).scale(5)\n",
    "        # Add an updater to keep the DecimalNumber centered as its value changes\n",
    "        number.add_updater(lambda number: number.move_to(ORIGIN))\n",
    "\n",
    "        self.add(number)\n",
    "\n",
    "        self.wait()\n",
    "\n",
    "        # Play the Count Animation to count from 0 to 100 in 4 seconds\n",
    "        self.play(Count(number, 0, 100), run_time=4, rate_func=linear)\n",
    "\n",
    "        self.wait()\n"
   ]
  },
  {
   "cell_type": "code",
   "execution_count": 21,
   "id": "082eb10f",
   "metadata": {},
   "outputs": [],
   "source": [
    "class LineGraphExample(Scene):\n",
    "    def construct(self):\n",
    "        # Crear plano\n",
    "        plane = NumberPlane(\n",
    "            x_range=(0, 5),\n",
    "            y_range=(0, 5),  # el rango debe ser adecuado para la función\n",
    "            x_length=5,\n",
    "            axis_config={\"include_numbers\": True},\n",
    "        )\n",
    "        self.play(Create(plane))\n",
    "\n",
    "        # Definir función\n",
    "        def func(x):\n",
    "            return x**2 - 2*x + 2\n",
    "\n",
    "        # Graficar la función\n",
    "        graph = plane.plot(func, color=BLUE)\n",
    "\n",
    "        # Crear un punto que se moverá sobre la curva\n",
    "        dot = Dot(color=RED).move_to(plane.c2p(0, func(0)))\n",
    "\n",
    "        # Crear la curva y el punto\n",
    "        self.play(Create(graph), FadeIn(dot))\n",
    "\n",
    "        # Mover el punto a lo largo de la gráfica\n",
    "        self.play(MoveAlongPath(dot, graph), run_time=4)\n",
    "\n",
    "        self.wait()"
   ]
  },
  {
   "cell_type": "code",
   "execution_count": 22,
   "id": "bf635e3d",
   "metadata": {},
   "outputs": [
    {
     "name": "stderr",
     "output_type": "stream",
     "text": [
      "                                                                                \r"
     ]
    },
    {
     "data": {
      "text/html": [
       "<video src=\"media/jupyter/LineGraphExample@2025-05-06@00-06-23.mp4\" controls autoplay loop style=\"max-width: 75%;\"  >\n",
       "      Your browser does not support the <code>video</code> element.\n",
       "    </video>"
      ],
      "text/plain": [
       "<IPython.core.display.Video object>"
      ]
     },
     "metadata": {},
     "output_type": "display_data"
    }
   ],
   "source": [
    "%manim -ql -v WARNING LineGraphExample\n",
    "\n",
    "class LineGraphExample(Scene):\n",
    "    def construct(self):\n",
    "        plane = NumberPlane(\n",
    "            x_range = (0, 5),\n",
    "            y_range = (0, 5),\n",
    "            x_length = 5,\n",
    "            axis_config={\"include_numbers\": True},\n",
    "        )\n",
    "        line_graph = plane.plot_line_graph(\n",
    "            x_values = [0, 1.5, 2, 2.8, 4, 6.25],\n",
    "            y_values = [1, 3, 2.25, 4, 2.5, 1.75],\n",
    "            line_color=GOLD_E,\n",
    "            vertex_dot_style=dict(stroke_width=3,  fill_color=GOLD_E),\n",
    "            stroke_width = 4,\n",
    "        )\n",
    "        line_graph2 = plane.plot_line_graph(\n",
    "            x_values = [0, 1.5, 2, 2.8, 4, 6.25],\n",
    "            y_values = [1, 3, 2.25, 1, 2.5, 1.75],\n",
    "            line_color=GOLD_E,\n",
    "            vertex_dot_style=dict(stroke_width=3,  fill_color=GOLD_E),\n",
    "            stroke_width = 4,\n",
    "        )\n",
    "        self.add(plane)\n",
    "        self.play(Transform(line_graph,line_graph2))"
   ]
  },
  {
   "cell_type": "code",
   "execution_count": 23,
   "id": "80c4e08b",
   "metadata": {},
   "outputs": [
    {
     "name": "stderr",
     "output_type": "stream",
     "text": [
      "                                                                                \r"
     ]
    },
    {
     "data": {
      "text/html": [
       "<video src=\"media/jupyter/LagRatios@2025-05-06@00-06-37.mp4\" controls autoplay loop style=\"max-width: 75%;\"  >\n",
       "      Your browser does not support the <code>video</code> element.\n",
       "    </video>"
      ],
      "text/plain": [
       "<IPython.core.display.Video object>"
      ]
     },
     "metadata": {},
     "output_type": "display_data"
    }
   ],
   "source": [
    "%%manim -qm -v WARNING LagRatios\n",
    "\n",
    "from manim import *\n",
    "\n",
    "class LagRatios(Scene):\n",
    "    def construct(self):\n",
    "        ratios = [0, 0.1, 0.5, 1, 2]  # demonstrated lag_ratios\n",
    "\n",
    "        # Create dot groups\n",
    "        group = VGroup(*[Dot() for _ in range(4)]).arrange_submobjects()\n",
    "        groups = VGroup(*[group.copy() for _ in ratios]).arrange_submobjects(buff=1)\n",
    "        self.add(groups)\n",
    "\n",
    "        # Label groups\n",
    "        #self.add(Text(\"lag_ratio = \", font_size=36).next_to(groups, UP, buff=1.5))\n",
    "        for group, ratio in zip(groups, ratios):\n",
    "            self.add(Text(str(ratio), font_size=36).next_to(group, UP))\n",
    "\n",
    "        #Animate groups with different lag_ratios\n",
    "        self.play(AnimationGroup(*[\n",
    "            group.animate(lag_ratio=ratio, run_time=1.5).shift(DOWN * 2)\n",
    "            for group, ratio in zip(groups, ratios)\n",
    "        ]))\n",
    "\n",
    "        # lag_ratio also works recursively on nested submobjects:\n",
    "        self.play(groups.animate(run_time=1, lag_ratio=0.1).shift(UP * 2))"
   ]
  },
  {
   "cell_type": "code",
   "execution_count": 38,
   "id": "e60fc730",
   "metadata": {
    "scrolled": true
   },
   "outputs": [
    {
     "name": "stderr",
     "output_type": "stream",
     "text": [
      "                                                                                \r"
     ]
    },
    {
     "data": {
      "text/html": [
       "<video src=\"media/jupyter/ShowDrawBorderThenFill@2025-05-06@00-08-20.mp4\" controls autoplay loop style=\"max-width: 75%;\"  >\n",
       "      Your browser does not support the <code>video</code> element.\n",
       "    </video>"
      ],
      "text/plain": [
       "<IPython.core.display.Video object>"
      ]
     },
     "metadata": {},
     "output_type": "display_data"
    }
   ],
   "source": [
    "class ShowDrawBorderThenFill(Scene):\n",
    "    def construct(self):\n",
    "        text = Text('Unai Razkin').scale(3)\n",
    "        self.play(DrawBorderThenFill(text))\n",
    "        self.play(ApplyWave(text))\n",
    "        self.play(Unwrite(text))\n",
    "%manim -ql -v WARNING ShowDrawBorderThenFill\n",
    "\n"
   ]
  },
  {
   "cell_type": "code",
   "execution_count": 39,
   "id": "9eb9e86a",
   "metadata": {},
   "outputs": [
    {
     "name": "stderr",
     "output_type": "stream",
     "text": [
      "                                                                                \r"
     ]
    },
    {
     "data": {
      "text/html": [
       "<video src=\"media/jupyter/TracedPathExample@2025-05-06@00-08-35.mp4\" controls autoplay loop style=\"max-width: 75%;\"  >\n",
       "      Your browser does not support the <code>video</code> element.\n",
       "    </video>"
      ],
      "text/plain": [
       "<IPython.core.display.Video object>"
      ]
     },
     "metadata": {},
     "output_type": "display_data"
    }
   ],
   "source": [
    "class TracedPathExample(Scene):\n",
    "    def construct(self):\n",
    "        circ = Circle(color=RED).shift(4*LEFT)\n",
    "        dot = Dot(color=RED).move_to(circ.get_start())\n",
    "        rolling_circle = VGroup(circ, dot)\n",
    "        trace = TracedPath(circ.get_start)\n",
    "        rolling_circle.add_updater(lambda m: m.rotate(-0.3))\n",
    "        self.add(trace, rolling_circle)\n",
    "        self.play(rolling_circle.animate.shift(8*RIGHT), run_time=4, rate_func=linear)\n",
    "\n",
    "%manim -ql -v WARNING TracedPathExample"
   ]
  },
  {
   "cell_type": "code",
   "execution_count": 40,
   "id": "c4f394cc",
   "metadata": {},
   "outputs": [
    {
     "name": "stderr",
     "output_type": "stream",
     "text": [
      "                                                                                \r"
     ]
    },
    {
     "data": {
      "text/html": [
       "<video src=\"media/jupyter/TracedPathExample@2025-05-06@00-08-52.mp4\" controls autoplay loop style=\"max-width: 75%;\"  >\n",
       "      Your browser does not support the <code>video</code> element.\n",
       "    </video>"
      ],
      "text/plain": [
       "<IPython.core.display.Video object>"
      ]
     },
     "metadata": {},
     "output_type": "display_data"
    }
   ],
   "source": [
    "class DissipatingPathExample(Scene):\n",
    "    def construct(self):\n",
    "        a = Dot(RIGHT * 2)\n",
    "        b = TracedPath(a.get_center, dissipating_time=0.5, stroke_opacity=[0, 1])\n",
    "        self.add(a, b)\n",
    "        self.play(a.animate(path_arc=PI / 4).shift(LEFT * 2))\n",
    "        self.play(a.animate(path_arc=-PI / 4).shift(LEFT * 2))\n",
    "        self.wait()\n",
    "        \n",
    "%manim -ql -v WARNING TracedPathExample"
   ]
  },
  {
   "cell_type": "code",
   "execution_count": 41,
   "id": "d4cac81b",
   "metadata": {},
   "outputs": [
    {
     "name": "stderr",
     "output_type": "stream",
     "text": [
      "                                                                                \r"
     ]
    },
    {
     "data": {
      "text/html": [
       "<video src=\"media/jupyter/SuccessionExample@2025-05-06@00-09-08.mp4\" controls autoplay loop style=\"max-width: 75%;\"  >\n",
       "      Your browser does not support the <code>video</code> element.\n",
       "    </video>"
      ],
      "text/plain": [
       "<IPython.core.display.Video object>"
      ]
     },
     "metadata": {},
     "output_type": "display_data"
    }
   ],
   "source": [
    "class SuccessionExample(Scene):\n",
    "    def construct(self):\n",
    "        dot1 = Dot(point=LEFT * 2 + UP * 2, radius=0.16, color=BLUE)\n",
    "        dot2 = Dot(point=LEFT * 2 + DOWN * 2, radius=0.16, color=MAROON)\n",
    "        dot3 = Dot(point=RIGHT * 2 + DOWN * 2, radius=0.16, color=GREEN)\n",
    "        dot4 = Dot(point=RIGHT * 2 + UP * 2, radius=0.16, color=YELLOW)\n",
    "        self.add(dot1, dot2, dot3, dot4)\n",
    "\n",
    "        self.play(Succession(\n",
    "            dot1.animate.move_to(dot2),\n",
    "            dot2.animate.move_to(dot3),\n",
    "            dot3.animate.move_to(dot4),\n",
    "            dot4.animate.move_to(dot1)\n",
    "        ))\n",
    "%manim -ql -v WARNING SuccessionExample"
   ]
  },
  {
   "cell_type": "code",
   "execution_count": 42,
   "id": "a463265b",
   "metadata": {},
   "outputs": [
    {
     "name": "stderr",
     "output_type": "stream",
     "text": [
      "                                                                                \r"
     ]
    },
    {
     "data": {
      "text/html": [
       "<video src=\"media/jupyter/Indications@2025-05-06@00-09-34.mp4\" controls autoplay loop style=\"max-width: 75%;\"  >\n",
       "      Your browser does not support the <code>video</code> element.\n",
       "    </video>"
      ],
      "text/plain": [
       "<IPython.core.display.Video object>"
      ]
     },
     "metadata": {},
     "output_type": "display_data"
    }
   ],
   "source": [
    "class Indications(Scene):\n",
    "    def construct(self):\n",
    "        indications = [ApplyWave,Circumscribe,Flash,FocusOn,Indicate,ShowPassingFlash,Wiggle]\n",
    "        names = [Tex(i.__name__).scale(3) for i in indications]\n",
    "\n",
    "        self.add(names[0])\n",
    "        for i in range(len(names)):\n",
    "            if indications[i] is Flash:\n",
    "                self.play(Flash(UP))\n",
    "            elif indications[i] is ShowPassingFlash:\n",
    "                self.play(ShowPassingFlash(Underline(names[i])))\n",
    "            else:\n",
    "                self.play(indications[i](names[i]))\n",
    "            self.play(AnimationGroup(\n",
    "                FadeOut(names[i], shift=UP*1.5),\n",
    "                FadeIn(names[(i+1)%len(names)], shift=UP*1.5),\n",
    "            ))\n",
    "            \n",
    "%manim -ql -v WARNING Indications"
   ]
  },
  {
   "cell_type": "code",
   "execution_count": 43,
   "id": "7de554ba",
   "metadata": {},
   "outputs": [
    {
     "name": "stderr",
     "output_type": "stream",
     "text": [
      "                                                                                \r"
     ]
    },
    {
     "data": {
      "text/html": [
       "<video src=\"media/jupyter/Indications@2025-05-06@00-09-49.mp4\" controls autoplay loop style=\"max-width: 75%;\"  >\n",
       "      Your browser does not support the <code>video</code> element.\n",
       "    </video>"
      ],
      "text/plain": [
       "<IPython.core.display.Video object>"
      ]
     },
     "metadata": {},
     "output_type": "display_data"
    }
   ],
   "source": [
    "class TimeWidthValues(Scene):\n",
    "    def construct(self):\n",
    "        p = RegularPolygon(5, color=DARK_GRAY, stroke_width=6).scale(3)\n",
    "        lbl = VMobject()\n",
    "        self.add(p, lbl)\n",
    "        p = p.copy().set_color(BLUE)\n",
    "        for time_width in [0.2, 0.5, 1, 2]:\n",
    "            lbl.become(Tex(r\"\\texttt{time\\_width={{%.1f}}}\"%time_width))\n",
    "            self.play(ShowPassingFlash(\n",
    "                p.copy().set_color(BLUE),\n",
    "                run_time=2,\n",
    "                time_width=time_width\n",
    "            ))\n",
    "%manim -ql -v WARNING Indications"
   ]
  },
  {
   "cell_type": "code",
   "execution_count": 45,
   "id": "fc6b4811",
   "metadata": {},
   "outputs": [
    {
     "ename": "BadParameter",
     "evalue": "'' is not one of 'DEBUG', 'INFO', 'WARNING', 'ERROR', 'CRITICAL'.",
     "output_type": "error",
     "traceback": [
      "\u001b[0;31m---------------------------------------------------------------------------\u001b[0m",
      "\u001b[0;31mBadParameter\u001b[0m                              Traceback (most recent call last)",
      "Cell \u001b[0;32mIn[45], line 10\u001b[0m\n\u001b[1;32m      7\u001b[0m         l2\u001b[38;5;241m.\u001b[39madd_updater(\u001b[38;5;28;01mlambda\u001b[39;00m x: x\u001b[38;5;241m.\u001b[39mbecome(Line(LEFT, d1\u001b[38;5;241m.\u001b[39mget_center())\u001b[38;5;241m.\u001b[39mset_color(ORANGE)))\n\u001b[1;32m      8\u001b[0m         \u001b[38;5;28mself\u001b[39m\u001b[38;5;241m.\u001b[39mplay(MoveAlongPath(d1, l1), rate_func\u001b[38;5;241m=\u001b[39mlinear)\n\u001b[0;32m---> 10\u001b[0m \u001b[43mget_ipython\u001b[49m\u001b[43m(\u001b[49m\u001b[43m)\u001b[49m\u001b[38;5;241;43m.\u001b[39;49m\u001b[43mrun_line_magic\u001b[49m\u001b[43m(\u001b[49m\u001b[38;5;124;43m'\u001b[39;49m\u001b[38;5;124;43mmanim\u001b[39;49m\u001b[38;5;124;43m'\u001b[39;49m\u001b[43m,\u001b[49m\u001b[43m \u001b[49m\u001b[38;5;124;43m'\u001b[39;49m\u001b[38;5;124;43m-ql -v MoveAlongPathExample\u001b[39;49m\u001b[38;5;124;43m'\u001b[39;49m\u001b[43m)\u001b[49m\n",
      "File \u001b[0;32m~/anaconda3/lib/python3.10/site-packages/IPython/core/interactiveshell.py:2369\u001b[0m, in \u001b[0;36mInteractiveShell.run_line_magic\u001b[0;34m(self, magic_name, line, _stack_depth)\u001b[0m\n\u001b[1;32m   2367\u001b[0m     kwargs[\u001b[38;5;124m'\u001b[39m\u001b[38;5;124mlocal_ns\u001b[39m\u001b[38;5;124m'\u001b[39m] \u001b[38;5;241m=\u001b[39m \u001b[38;5;28mself\u001b[39m\u001b[38;5;241m.\u001b[39mget_local_scope(stack_depth)\n\u001b[1;32m   2368\u001b[0m \u001b[38;5;28;01mwith\u001b[39;00m \u001b[38;5;28mself\u001b[39m\u001b[38;5;241m.\u001b[39mbuiltin_trap:\n\u001b[0;32m-> 2369\u001b[0m     result \u001b[38;5;241m=\u001b[39m \u001b[43mfn\u001b[49m\u001b[43m(\u001b[49m\u001b[38;5;241;43m*\u001b[39;49m\u001b[43margs\u001b[49m\u001b[43m,\u001b[49m\u001b[43m \u001b[49m\u001b[38;5;241;43m*\u001b[39;49m\u001b[38;5;241;43m*\u001b[39;49m\u001b[43mkwargs\u001b[49m\u001b[43m)\u001b[49m\n\u001b[1;32m   2371\u001b[0m \u001b[38;5;66;03m# The code below prevents the output from being displayed\u001b[39;00m\n\u001b[1;32m   2372\u001b[0m \u001b[38;5;66;03m# when using magics with decodator @output_can_be_silenced\u001b[39;00m\n\u001b[1;32m   2373\u001b[0m \u001b[38;5;66;03m# when the last Python token in the expression is a ';'.\u001b[39;00m\n\u001b[1;32m   2374\u001b[0m \u001b[38;5;28;01mif\u001b[39;00m \u001b[38;5;28mgetattr\u001b[39m(fn, magic\u001b[38;5;241m.\u001b[39mMAGIC_OUTPUT_CAN_BE_SILENCED, \u001b[38;5;28;01mFalse\u001b[39;00m):\n",
      "File \u001b[0;32m~/anaconda3/lib/python3.10/site-packages/manim/utils/ipython_magic.py:128\u001b[0m, in \u001b[0;36mManimMagic.manim\u001b[0;34m(self, line, cell, local_ns)\u001b[0m\n\u001b[1;32m    125\u001b[0m     \u001b[38;5;28;01mreturn\u001b[39;00m\n\u001b[1;32m    127\u001b[0m modified_args \u001b[38;5;241m=\u001b[39m \u001b[38;5;28mself\u001b[39m\u001b[38;5;241m.\u001b[39madd_additional_args(args)\n\u001b[0;32m--> 128\u001b[0m args \u001b[38;5;241m=\u001b[39m \u001b[43mmain\u001b[49m\u001b[43m(\u001b[49m\u001b[43mmodified_args\u001b[49m\u001b[43m,\u001b[49m\u001b[43m \u001b[49m\u001b[43mstandalone_mode\u001b[49m\u001b[38;5;241;43m=\u001b[39;49m\u001b[38;5;28;43;01mFalse\u001b[39;49;00m\u001b[43m,\u001b[49m\u001b[43m \u001b[49m\u001b[43mprog_name\u001b[49m\u001b[38;5;241;43m=\u001b[39;49m\u001b[38;5;124;43m\"\u001b[39;49m\u001b[38;5;124;43mmanim\u001b[39;49m\u001b[38;5;124;43m\"\u001b[39;49m\u001b[43m)\u001b[49m\n\u001b[1;32m    129\u001b[0m \u001b[38;5;28;01mwith\u001b[39;00m tempconfig(local_ns\u001b[38;5;241m.\u001b[39mget(\u001b[38;5;124m\"\u001b[39m\u001b[38;5;124mconfig\u001b[39m\u001b[38;5;124m\"\u001b[39m, {})):\n\u001b[1;32m    130\u001b[0m     config\u001b[38;5;241m.\u001b[39mdigest_args(args)\n",
      "File \u001b[0;32m~/anaconda3/lib/python3.10/site-packages/click/core.py:1128\u001b[0m, in \u001b[0;36mBaseCommand.__call__\u001b[0;34m(self, *args, **kwargs)\u001b[0m\n\u001b[1;32m   1126\u001b[0m \u001b[38;5;28;01mdef\u001b[39;00m \u001b[38;5;21m__call__\u001b[39m(\u001b[38;5;28mself\u001b[39m, \u001b[38;5;241m*\u001b[39margs: t\u001b[38;5;241m.\u001b[39mAny, \u001b[38;5;241m*\u001b[39m\u001b[38;5;241m*\u001b[39mkwargs: t\u001b[38;5;241m.\u001b[39mAny) \u001b[38;5;241m-\u001b[39m\u001b[38;5;241m>\u001b[39m t\u001b[38;5;241m.\u001b[39mAny:\n\u001b[1;32m   1127\u001b[0m \u001b[38;5;250m    \u001b[39m\u001b[38;5;124;03m\"\"\"Alias for :meth:`main`.\"\"\"\u001b[39;00m\n\u001b[0;32m-> 1128\u001b[0m     \u001b[38;5;28;01mreturn\u001b[39;00m \u001b[38;5;28;43mself\u001b[39;49m\u001b[38;5;241;43m.\u001b[39;49m\u001b[43mmain\u001b[49m\u001b[43m(\u001b[49m\u001b[38;5;241;43m*\u001b[39;49m\u001b[43margs\u001b[49m\u001b[43m,\u001b[49m\u001b[43m \u001b[49m\u001b[38;5;241;43m*\u001b[39;49m\u001b[38;5;241;43m*\u001b[39;49m\u001b[43mkwargs\u001b[49m\u001b[43m)\u001b[49m\n",
      "File \u001b[0;32m~/anaconda3/lib/python3.10/site-packages/click/core.py:1053\u001b[0m, in \u001b[0;36mBaseCommand.main\u001b[0;34m(self, args, prog_name, complete_var, standalone_mode, windows_expand_args, **extra)\u001b[0m\n\u001b[1;32m   1051\u001b[0m \u001b[38;5;28;01mtry\u001b[39;00m:\n\u001b[1;32m   1052\u001b[0m     \u001b[38;5;28;01mwith\u001b[39;00m \u001b[38;5;28mself\u001b[39m\u001b[38;5;241m.\u001b[39mmake_context(prog_name, args, \u001b[38;5;241m*\u001b[39m\u001b[38;5;241m*\u001b[39mextra) \u001b[38;5;28;01mas\u001b[39;00m ctx:\n\u001b[0;32m-> 1053\u001b[0m         rv \u001b[38;5;241m=\u001b[39m \u001b[38;5;28;43mself\u001b[39;49m\u001b[38;5;241;43m.\u001b[39;49m\u001b[43minvoke\u001b[49m\u001b[43m(\u001b[49m\u001b[43mctx\u001b[49m\u001b[43m)\u001b[49m\n\u001b[1;32m   1054\u001b[0m         \u001b[38;5;28;01mif\u001b[39;00m \u001b[38;5;129;01mnot\u001b[39;00m standalone_mode:\n\u001b[1;32m   1055\u001b[0m             \u001b[38;5;28;01mreturn\u001b[39;00m rv\n",
      "File \u001b[0;32m~/anaconda3/lib/python3.10/site-packages/click/core.py:1657\u001b[0m, in \u001b[0;36mMultiCommand.invoke\u001b[0;34m(self, ctx)\u001b[0m\n\u001b[1;32m   1655\u001b[0m ctx\u001b[38;5;241m.\u001b[39minvoked_subcommand \u001b[38;5;241m=\u001b[39m cmd_name\n\u001b[1;32m   1656\u001b[0m \u001b[38;5;28msuper\u001b[39m()\u001b[38;5;241m.\u001b[39minvoke(ctx)\n\u001b[0;32m-> 1657\u001b[0m sub_ctx \u001b[38;5;241m=\u001b[39m \u001b[43mcmd\u001b[49m\u001b[38;5;241;43m.\u001b[39;49m\u001b[43mmake_context\u001b[49m\u001b[43m(\u001b[49m\u001b[43mcmd_name\u001b[49m\u001b[43m,\u001b[49m\u001b[43m \u001b[49m\u001b[43margs\u001b[49m\u001b[43m,\u001b[49m\u001b[43m \u001b[49m\u001b[43mparent\u001b[49m\u001b[38;5;241;43m=\u001b[39;49m\u001b[43mctx\u001b[49m\u001b[43m)\u001b[49m\n\u001b[1;32m   1658\u001b[0m \u001b[38;5;28;01mwith\u001b[39;00m sub_ctx:\n\u001b[1;32m   1659\u001b[0m     \u001b[38;5;28;01mreturn\u001b[39;00m _process_result(sub_ctx\u001b[38;5;241m.\u001b[39mcommand\u001b[38;5;241m.\u001b[39minvoke(sub_ctx))\n",
      "File \u001b[0;32m~/anaconda3/lib/python3.10/site-packages/cloup/_commands.py:79\u001b[0m, in \u001b[0;36mBaseCommand.make_context\u001b[0;34m(self, info_name, args, parent, **extra)\u001b[0m\n\u001b[1;32m     76\u001b[0m ctx \u001b[38;5;241m=\u001b[39m \u001b[38;5;28mself\u001b[39m\u001b[38;5;241m.\u001b[39mcontext_class(\u001b[38;5;28mself\u001b[39m, info_name\u001b[38;5;241m=\u001b[39minfo_name, parent\u001b[38;5;241m=\u001b[39mparent, \u001b[38;5;241m*\u001b[39m\u001b[38;5;241m*\u001b[39mextra)\n\u001b[1;32m     78\u001b[0m \u001b[38;5;28;01mwith\u001b[39;00m ctx\u001b[38;5;241m.\u001b[39mscope(cleanup\u001b[38;5;241m=\u001b[39m\u001b[38;5;28;01mFalse\u001b[39;00m):\n\u001b[0;32m---> 79\u001b[0m     \u001b[38;5;28;43mself\u001b[39;49m\u001b[38;5;241;43m.\u001b[39;49m\u001b[43mparse_args\u001b[49m\u001b[43m(\u001b[49m\u001b[43mctx\u001b[49m\u001b[43m,\u001b[49m\u001b[43m \u001b[49m\u001b[43margs\u001b[49m\u001b[43m)\u001b[49m\n\u001b[1;32m     80\u001b[0m \u001b[38;5;28;01mreturn\u001b[39;00m ctx\n",
      "File \u001b[0;32m~/anaconda3/lib/python3.10/site-packages/cloup/constraints/_support.py:180\u001b[0m, in \u001b[0;36mConstraintMixin.parse_args\u001b[0;34m(self, ctx, args)\u001b[0m\n\u001b[1;32m    177\u001b[0m     \u001b[38;5;28;01mfor\u001b[39;00m constr \u001b[38;5;129;01min\u001b[39;00m \u001b[38;5;28mself\u001b[39m\u001b[38;5;241m.\u001b[39mall_constraints:\n\u001b[1;32m    178\u001b[0m         constr\u001b[38;5;241m.\u001b[39mcheck_consistency()\n\u001b[0;32m--> 180\u001b[0m args \u001b[38;5;241m=\u001b[39m \u001b[38;5;28;43msuper\u001b[39;49m\u001b[43m(\u001b[49m\u001b[43m)\u001b[49m\u001b[38;5;241;43m.\u001b[39;49m\u001b[43mparse_args\u001b[49m\u001b[43m(\u001b[49m\u001b[43mctx\u001b[49m\u001b[43m,\u001b[49m\u001b[43m \u001b[49m\u001b[43margs\u001b[49m\u001b[43m)\u001b[49m  \u001b[38;5;66;03m# type: ignore\u001b[39;00m\n\u001b[1;32m    182\u001b[0m \u001b[38;5;66;03m# Check parameters satisfy all constraints\u001b[39;00m\n\u001b[1;32m    183\u001b[0m \u001b[38;5;28;01mif\u001b[39;00m \u001b[38;5;129;01mnot\u001b[39;00m ctx\u001b[38;5;241m.\u001b[39mresilient_parsing:\n",
      "File \u001b[0;32m~/anaconda3/lib/python3.10/site-packages/click/core.py:1370\u001b[0m, in \u001b[0;36mCommand.parse_args\u001b[0;34m(self, ctx, args)\u001b[0m\n\u001b[1;32m   1367\u001b[0m opts, args, param_order \u001b[38;5;241m=\u001b[39m parser\u001b[38;5;241m.\u001b[39mparse_args(args\u001b[38;5;241m=\u001b[39margs)\n\u001b[1;32m   1369\u001b[0m \u001b[38;5;28;01mfor\u001b[39;00m param \u001b[38;5;129;01min\u001b[39;00m iter_params_for_processing(param_order, \u001b[38;5;28mself\u001b[39m\u001b[38;5;241m.\u001b[39mget_params(ctx)):\n\u001b[0;32m-> 1370\u001b[0m     value, args \u001b[38;5;241m=\u001b[39m \u001b[43mparam\u001b[49m\u001b[38;5;241;43m.\u001b[39;49m\u001b[43mhandle_parse_result\u001b[49m\u001b[43m(\u001b[49m\u001b[43mctx\u001b[49m\u001b[43m,\u001b[49m\u001b[43m \u001b[49m\u001b[43mopts\u001b[49m\u001b[43m,\u001b[49m\u001b[43m \u001b[49m\u001b[43margs\u001b[49m\u001b[43m)\u001b[49m\n\u001b[1;32m   1372\u001b[0m \u001b[38;5;28;01mif\u001b[39;00m args \u001b[38;5;129;01mand\u001b[39;00m \u001b[38;5;129;01mnot\u001b[39;00m ctx\u001b[38;5;241m.\u001b[39mallow_extra_args \u001b[38;5;129;01mand\u001b[39;00m \u001b[38;5;129;01mnot\u001b[39;00m ctx\u001b[38;5;241m.\u001b[39mresilient_parsing:\n\u001b[1;32m   1373\u001b[0m     ctx\u001b[38;5;241m.\u001b[39mfail(\n\u001b[1;32m   1374\u001b[0m         ngettext(\n\u001b[1;32m   1375\u001b[0m             \u001b[38;5;124m\"\u001b[39m\u001b[38;5;124mGot unexpected extra argument (\u001b[39m\u001b[38;5;132;01m{args}\u001b[39;00m\u001b[38;5;124m)\u001b[39m\u001b[38;5;124m\"\u001b[39m,\n\u001b[0;32m   (...)\u001b[0m\n\u001b[1;32m   1378\u001b[0m         )\u001b[38;5;241m.\u001b[39mformat(args\u001b[38;5;241m=\u001b[39m\u001b[38;5;124m\"\u001b[39m\u001b[38;5;124m \u001b[39m\u001b[38;5;124m\"\u001b[39m\u001b[38;5;241m.\u001b[39mjoin(\u001b[38;5;28mmap\u001b[39m(\u001b[38;5;28mstr\u001b[39m, args)))\n\u001b[1;32m   1379\u001b[0m     )\n",
      "File \u001b[0;32m~/anaconda3/lib/python3.10/site-packages/click/core.py:2347\u001b[0m, in \u001b[0;36mParameter.handle_parse_result\u001b[0;34m(self, ctx, opts, args)\u001b[0m\n\u001b[1;32m   2344\u001b[0m ctx\u001b[38;5;241m.\u001b[39mset_parameter_source(\u001b[38;5;28mself\u001b[39m\u001b[38;5;241m.\u001b[39mname, source)  \u001b[38;5;66;03m# type: ignore\u001b[39;00m\n\u001b[1;32m   2346\u001b[0m \u001b[38;5;28;01mtry\u001b[39;00m:\n\u001b[0;32m-> 2347\u001b[0m     value \u001b[38;5;241m=\u001b[39m \u001b[38;5;28;43mself\u001b[39;49m\u001b[38;5;241;43m.\u001b[39;49m\u001b[43mprocess_value\u001b[49m\u001b[43m(\u001b[49m\u001b[43mctx\u001b[49m\u001b[43m,\u001b[49m\u001b[43m \u001b[49m\u001b[43mvalue\u001b[49m\u001b[43m)\u001b[49m\n\u001b[1;32m   2348\u001b[0m \u001b[38;5;28;01mexcept\u001b[39;00m \u001b[38;5;167;01mException\u001b[39;00m:\n\u001b[1;32m   2349\u001b[0m     \u001b[38;5;28;01mif\u001b[39;00m \u001b[38;5;129;01mnot\u001b[39;00m ctx\u001b[38;5;241m.\u001b[39mresilient_parsing:\n",
      "File \u001b[0;32m~/anaconda3/lib/python3.10/site-packages/click/core.py:2303\u001b[0m, in \u001b[0;36mParameter.process_value\u001b[0;34m(self, ctx, value)\u001b[0m\n\u001b[1;32m   2302\u001b[0m \u001b[38;5;28;01mdef\u001b[39;00m \u001b[38;5;21mprocess_value\u001b[39m(\u001b[38;5;28mself\u001b[39m, ctx: Context, value: t\u001b[38;5;241m.\u001b[39mAny) \u001b[38;5;241m-\u001b[39m\u001b[38;5;241m>\u001b[39m t\u001b[38;5;241m.\u001b[39mAny:\n\u001b[0;32m-> 2303\u001b[0m     value \u001b[38;5;241m=\u001b[39m \u001b[38;5;28;43mself\u001b[39;49m\u001b[38;5;241;43m.\u001b[39;49m\u001b[43mtype_cast_value\u001b[49m\u001b[43m(\u001b[49m\u001b[43mctx\u001b[49m\u001b[43m,\u001b[49m\u001b[43m \u001b[49m\u001b[43mvalue\u001b[49m\u001b[43m)\u001b[49m\n\u001b[1;32m   2305\u001b[0m     \u001b[38;5;28;01mif\u001b[39;00m \u001b[38;5;28mself\u001b[39m\u001b[38;5;241m.\u001b[39mrequired \u001b[38;5;129;01mand\u001b[39;00m \u001b[38;5;28mself\u001b[39m\u001b[38;5;241m.\u001b[39mvalue_is_missing(value):\n\u001b[1;32m   2306\u001b[0m         \u001b[38;5;28;01mraise\u001b[39;00m MissingParameter(ctx\u001b[38;5;241m=\u001b[39mctx, param\u001b[38;5;241m=\u001b[39m\u001b[38;5;28mself\u001b[39m)\n",
      "File \u001b[0;32m~/anaconda3/lib/python3.10/site-packages/click/core.py:2291\u001b[0m, in \u001b[0;36mParameter.type_cast_value\u001b[0;34m(self, ctx, value)\u001b[0m\n\u001b[1;32m   2288\u001b[0m \u001b[38;5;28;01mif\u001b[39;00m \u001b[38;5;28mself\u001b[39m\u001b[38;5;241m.\u001b[39mmultiple:\n\u001b[1;32m   2289\u001b[0m     \u001b[38;5;28;01mreturn\u001b[39;00m \u001b[38;5;28mtuple\u001b[39m(convert(x) \u001b[38;5;28;01mfor\u001b[39;00m x \u001b[38;5;129;01min\u001b[39;00m check_iter(value))\n\u001b[0;32m-> 2291\u001b[0m \u001b[38;5;28;01mreturn\u001b[39;00m \u001b[43mconvert\u001b[49m\u001b[43m(\u001b[49m\u001b[43mvalue\u001b[49m\u001b[43m)\u001b[49m\n",
      "File \u001b[0;32m~/anaconda3/lib/python3.10/site-packages/click/types.py:75\u001b[0m, in \u001b[0;36mParamType.__call__\u001b[0;34m(self, value, param, ctx)\u001b[0m\n\u001b[1;32m     68\u001b[0m \u001b[38;5;28;01mdef\u001b[39;00m \u001b[38;5;21m__call__\u001b[39m(\n\u001b[1;32m     69\u001b[0m     \u001b[38;5;28mself\u001b[39m,\n\u001b[1;32m     70\u001b[0m     value: t\u001b[38;5;241m.\u001b[39mAny,\n\u001b[1;32m     71\u001b[0m     param: t\u001b[38;5;241m.\u001b[39mOptional[\u001b[38;5;124m\"\u001b[39m\u001b[38;5;124mParameter\u001b[39m\u001b[38;5;124m\"\u001b[39m] \u001b[38;5;241m=\u001b[39m \u001b[38;5;28;01mNone\u001b[39;00m,\n\u001b[1;32m     72\u001b[0m     ctx: t\u001b[38;5;241m.\u001b[39mOptional[\u001b[38;5;124m\"\u001b[39m\u001b[38;5;124mContext\u001b[39m\u001b[38;5;124m\"\u001b[39m] \u001b[38;5;241m=\u001b[39m \u001b[38;5;28;01mNone\u001b[39;00m,\n\u001b[1;32m     73\u001b[0m ) \u001b[38;5;241m-\u001b[39m\u001b[38;5;241m>\u001b[39m t\u001b[38;5;241m.\u001b[39mAny:\n\u001b[1;32m     74\u001b[0m     \u001b[38;5;28;01mif\u001b[39;00m value \u001b[38;5;129;01mis\u001b[39;00m \u001b[38;5;129;01mnot\u001b[39;00m \u001b[38;5;28;01mNone\u001b[39;00m:\n\u001b[0;32m---> 75\u001b[0m         \u001b[38;5;28;01mreturn\u001b[39;00m \u001b[38;5;28;43mself\u001b[39;49m\u001b[38;5;241;43m.\u001b[39;49m\u001b[43mconvert\u001b[49m\u001b[43m(\u001b[49m\u001b[43mvalue\u001b[49m\u001b[43m,\u001b[49m\u001b[43m \u001b[49m\u001b[43mparam\u001b[49m\u001b[43m,\u001b[49m\u001b[43m \u001b[49m\u001b[43mctx\u001b[49m\u001b[43m)\u001b[49m\n",
      "File \u001b[0;32m~/anaconda3/lib/python3.10/site-packages/click/types.py:288\u001b[0m, in \u001b[0;36mChoice.convert\u001b[0;34m(self, value, param, ctx)\u001b[0m\n\u001b[1;32m    285\u001b[0m     \u001b[38;5;28;01mreturn\u001b[39;00m normed_choices[normed_value]\n\u001b[1;32m    287\u001b[0m choices_str \u001b[38;5;241m=\u001b[39m \u001b[38;5;124m\"\u001b[39m\u001b[38;5;124m, \u001b[39m\u001b[38;5;124m\"\u001b[39m\u001b[38;5;241m.\u001b[39mjoin(\u001b[38;5;28mmap\u001b[39m(\u001b[38;5;28mrepr\u001b[39m, \u001b[38;5;28mself\u001b[39m\u001b[38;5;241m.\u001b[39mchoices))\n\u001b[0;32m--> 288\u001b[0m \u001b[38;5;28;43mself\u001b[39;49m\u001b[38;5;241;43m.\u001b[39;49m\u001b[43mfail\u001b[49m\u001b[43m(\u001b[49m\n\u001b[1;32m    289\u001b[0m \u001b[43m    \u001b[49m\u001b[43mngettext\u001b[49m\u001b[43m(\u001b[49m\n\u001b[1;32m    290\u001b[0m \u001b[43m        \u001b[49m\u001b[38;5;124;43m\"\u001b[39;49m\u001b[38;5;132;43;01m{value!r}\u001b[39;49;00m\u001b[38;5;124;43m is not \u001b[39;49m\u001b[38;5;132;43;01m{choice}\u001b[39;49;00m\u001b[38;5;124;43m.\u001b[39;49m\u001b[38;5;124;43m\"\u001b[39;49m\u001b[43m,\u001b[49m\n\u001b[1;32m    291\u001b[0m \u001b[43m        \u001b[49m\u001b[38;5;124;43m\"\u001b[39;49m\u001b[38;5;132;43;01m{value!r}\u001b[39;49;00m\u001b[38;5;124;43m is not one of \u001b[39;49m\u001b[38;5;132;43;01m{choices}\u001b[39;49;00m\u001b[38;5;124;43m.\u001b[39;49m\u001b[38;5;124;43m\"\u001b[39;49m\u001b[43m,\u001b[49m\n\u001b[1;32m    292\u001b[0m \u001b[43m        \u001b[49m\u001b[38;5;28;43mlen\u001b[39;49m\u001b[43m(\u001b[49m\u001b[38;5;28;43mself\u001b[39;49m\u001b[38;5;241;43m.\u001b[39;49m\u001b[43mchoices\u001b[49m\u001b[43m)\u001b[49m\u001b[43m,\u001b[49m\n\u001b[1;32m    293\u001b[0m \u001b[43m    \u001b[49m\u001b[43m)\u001b[49m\u001b[38;5;241;43m.\u001b[39;49m\u001b[43mformat\u001b[49m\u001b[43m(\u001b[49m\u001b[43mvalue\u001b[49m\u001b[38;5;241;43m=\u001b[39;49m\u001b[43mvalue\u001b[49m\u001b[43m,\u001b[49m\u001b[43m \u001b[49m\u001b[43mchoice\u001b[49m\u001b[38;5;241;43m=\u001b[39;49m\u001b[43mchoices_str\u001b[49m\u001b[43m,\u001b[49m\u001b[43m \u001b[49m\u001b[43mchoices\u001b[49m\u001b[38;5;241;43m=\u001b[39;49m\u001b[43mchoices_str\u001b[49m\u001b[43m)\u001b[49m\u001b[43m,\u001b[49m\n\u001b[1;32m    294\u001b[0m \u001b[43m    \u001b[49m\u001b[43mparam\u001b[49m\u001b[43m,\u001b[49m\n\u001b[1;32m    295\u001b[0m \u001b[43m    \u001b[49m\u001b[43mctx\u001b[49m\u001b[43m,\u001b[49m\n\u001b[1;32m    296\u001b[0m \u001b[43m\u001b[49m\u001b[43m)\u001b[49m\n",
      "File \u001b[0;32m~/anaconda3/lib/python3.10/site-packages/click/types.py:128\u001b[0m, in \u001b[0;36mParamType.fail\u001b[0;34m(self, message, param, ctx)\u001b[0m\n\u001b[1;32m    121\u001b[0m \u001b[38;5;28;01mdef\u001b[39;00m \u001b[38;5;21mfail\u001b[39m(\n\u001b[1;32m    122\u001b[0m     \u001b[38;5;28mself\u001b[39m,\n\u001b[1;32m    123\u001b[0m     message: \u001b[38;5;28mstr\u001b[39m,\n\u001b[1;32m    124\u001b[0m     param: t\u001b[38;5;241m.\u001b[39mOptional[\u001b[38;5;124m\"\u001b[39m\u001b[38;5;124mParameter\u001b[39m\u001b[38;5;124m\"\u001b[39m] \u001b[38;5;241m=\u001b[39m \u001b[38;5;28;01mNone\u001b[39;00m,\n\u001b[1;32m    125\u001b[0m     ctx: t\u001b[38;5;241m.\u001b[39mOptional[\u001b[38;5;124m\"\u001b[39m\u001b[38;5;124mContext\u001b[39m\u001b[38;5;124m\"\u001b[39m] \u001b[38;5;241m=\u001b[39m \u001b[38;5;28;01mNone\u001b[39;00m,\n\u001b[1;32m    126\u001b[0m ) \u001b[38;5;241m-\u001b[39m\u001b[38;5;241m>\u001b[39m \u001b[38;5;124m\"\u001b[39m\u001b[38;5;124mt.NoReturn\u001b[39m\u001b[38;5;124m\"\u001b[39m:\n\u001b[1;32m    127\u001b[0m \u001b[38;5;250m    \u001b[39m\u001b[38;5;124;03m\"\"\"Helper method to fail with an invalid value message.\"\"\"\u001b[39;00m\n\u001b[0;32m--> 128\u001b[0m     \u001b[38;5;28;01mraise\u001b[39;00m BadParameter(message, ctx\u001b[38;5;241m=\u001b[39mctx, param\u001b[38;5;241m=\u001b[39mparam)\n",
      "\u001b[0;31mBadParameter\u001b[0m: '' is not one of 'DEBUG', 'INFO', 'WARNING', 'ERROR', 'CRITICAL'."
     ]
    }
   ],
   "source": [
    "class MoveAlongPathExample(Scene):\n",
    "    def construct(self):\n",
    "        d1 = Dot().set_color(ORANGE)\n",
    "        l1 = Line(LEFT, RIGHT)\n",
    "        l2 = VMobject()\n",
    "        self.add(d1, l1, l2)\n",
    "        l2.add_updater(lambda x: x.become(Line(LEFT, d1.get_center()).set_color(ORANGE)))\n",
    "        self.play(MoveAlongPath(d1, l1), rate_func=linear)\n",
    "    "
   ]
  },
  {
   "cell_type": "code",
   "execution_count": 48,
   "id": "9968f894",
   "metadata": {},
   "outputs": [],
   "source": [
    "class ApplyMatrixExample(Scene):\n",
    "    def construct(self):\n",
    "        matrix = [[1, 1], [0, 2/3]]\n",
    "        self.play(ApplyMatrix(matrix, Text(\"Hello World!\")), ApplyMatrix(matrix, NumberPlane()))\n"
   ]
  },
  {
   "cell_type": "code",
   "execution_count": 49,
   "id": "ab8f4a26",
   "metadata": {},
   "outputs": [],
   "source": [
    "class WarpSquare(Scene):\n",
    "    def construct(self):\n",
    "        square = Square()\n",
    "        self.play(\n",
    "            ApplyPointwiseFunction(\n",
    "                lambda point: complex_to_R3(np.exp(R3_to_complex(point))), square\n",
    "            )\n",
    "        )\n",
    "        self.wait()"
   ]
  },
  {
   "cell_type": "code",
   "execution_count": 50,
   "id": "a88e122e",
   "metadata": {},
   "outputs": [],
   "source": [
    "class Anagram(Scene):\n",
    "    def construct(self):\n",
    "        src = Text(\"Leire\")\n",
    "        tar = Text(\"Maribel\")\n",
    "        self.play(Write(src))\n",
    "        self.wait(0.5)\n",
    "        self.play(TransformMatchingShapes(src, tar, path_arc=PI/2))\n",
    "        self.wait(0.5)"
   ]
  },
  {
   "cell_type": "code",
   "execution_count": 51,
   "id": "61081014",
   "metadata": {},
   "outputs": [],
   "source": [
    "class MatchingEquationParts(Scene):\n",
    "    def construct(self):\n",
    "        variables = VGroup(MathTex(\"a\"), MathTex(\"b\"), MathTex(\"c\")).arrange_submobjects().shift(UP)\n",
    "\n",
    "        eq1 = MathTex(\"{{x}}^2\", \"+\", \"{{y}}^2\", \"=\", \"{{z}}^2\")\n",
    "        eq2 = MathTex(\"{{a}}^2\", \"+\", \"{{b}}^2\", \"=\", \"{{c}}^2\")\n",
    "        eq3 = MathTex(\"{{a}}^2\", \"=\", \"{{c}}^2\", \"-\", \"{{b}}^2\")\n",
    "\n",
    "        self.add(eq1)\n",
    "        self.wait(0.5)\n",
    "        self.play(TransformMatchingTex(Group(eq1, variables), eq2))\n",
    "        self.wait(0.5)\n",
    "        self.play(TransformMatchingTex(eq2, eq3))\n",
    "        self.wait(0.5)"
   ]
  },
  {
   "cell_type": "code",
   "execution_count": 35,
   "id": "291fa071",
   "metadata": {},
   "outputs": [
    {
     "name": "stderr",
     "output_type": "stream",
     "text": [
      "                                                                                \r"
     ]
    },
    {
     "data": {
      "text/html": [
       "<video src=\"media/jupyter/MatchingEquationParts@2025-05-06@00-07-23.mp4\" controls autoplay loop style=\"max-width: 75%;\"  >\n",
       "      Your browser does not support the <code>video</code> element.\n",
       "    </video>"
      ],
      "text/plain": [
       "<IPython.core.display.Video object>"
      ]
     },
     "metadata": {},
     "output_type": "display_data"
    }
   ],
   "source": [
    "%manim -ql -v WARNING MatchingEquationParts"
   ]
  },
  {
   "cell_type": "code",
   "execution_count": 52,
   "id": "46e75119",
   "metadata": {},
   "outputs": [],
   "source": [
    "class TracedPathExample(Scene):\n",
    "    def construct(self):\n",
    "        circ = Circle(color=RED).shift(4*LEFT)\n",
    "        dot = Dot(color=RED).move_to(circ.get_start())\n",
    "        rolling_circle = VGroup(circ, dot)\n",
    "        trace = TracedPath(circ.get_start)\n",
    "        rolling_circle.add_updater(lambda m: m.rotate(-0.3))\n",
    "        self.add(trace, rolling_circle)\n",
    "        self.play(rolling_circle.animate.shift(8*RIGHT), run_time=4, rate_func=linear)"
   ]
  },
  {
   "cell_type": "code",
   "execution_count": 53,
   "id": "7df8d1b6",
   "metadata": {},
   "outputs": [],
   "source": [
    "class DodecahedronScene(ThreeDScene):\n",
    "    def construct(self):\n",
    "        self.set_camera_orientation(phi=75 * DEGREES, theta=30 * DEGREES)\n",
    "        obj = Dodecahedron()\n",
    "        self.add(obj)"
   ]
  },
  {
   "cell_type": "code",
   "execution_count": null,
   "id": "4dc68906",
   "metadata": {},
   "outputs": [],
   "source": []
  }
 ],
 "metadata": {
  "kernelspec": {
   "display_name": "Python 3 (ipykernel)",
   "language": "python",
   "name": "python3"
  },
  "language_info": {
   "codemirror_mode": {
    "name": "ipython",
    "version": 3
   },
   "file_extension": ".py",
   "mimetype": "text/x-python",
   "name": "python",
   "nbconvert_exporter": "python",
   "pygments_lexer": "ipython3",
   "version": "3.10.9"
  }
 },
 "nbformat": 4,
 "nbformat_minor": 5
}
