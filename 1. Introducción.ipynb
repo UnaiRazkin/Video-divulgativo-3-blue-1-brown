{
 "cells": [
  {
   "cell_type": "code",
   "execution_count": 12,
   "id": "edb928e4",
   "metadata": {},
   "outputs": [
    {
     "name": "stderr",
     "output_type": "stream",
     "text": [
      "                                                                                \r"
     ]
    },
    {
     "data": {
      "text/html": [
       "<video src=\"media/jupyter/IntroTitulo@2025-05-06@01-13-42.mp4\" controls autoplay loop style=\"max-width: 75%;\"  >\n",
       "      Your browser does not support the <code>video</code> element.\n",
       "    </video>"
      ],
      "text/plain": [
       "<IPython.core.display.Video object>"
      ]
     },
     "metadata": {},
     "output_type": "display_data"
    }
   ],
   "source": [
    "class IntroTitulo(Scene):\n",
    "    def construct(self):\n",
    "        titulo = Text(\"¿Qué es un número primo?\", font_size=60)\n",
    "        self.play(Write(titulo))\n",
    "        self.wait(2)\n",
    "        self.play(FadeOut(titulo))\n",
    "        \n",
    "%manim -ql -v WARNING IntroTitulo"
   ]
  },
  {
   "cell_type": "code",
   "execution_count": 13,
   "id": "a3b1703a",
   "metadata": {},
   "outputs": [
    {
     "name": "stderr",
     "output_type": "stream",
     "text": [
      "                                                                                \r"
     ]
    },
    {
     "data": {
      "text/html": [
       "<video src=\"media/jupyter/EjemploSiete@2025-05-06@01-14-00.mp4\" controls autoplay loop style=\"max-width: 75%;\"  >\n",
       "      Your browser does not support the <code>video</code> element.\n",
       "    </video>"
      ],
      "text/plain": [
       "<IPython.core.display.Video object>"
      ]
     },
     "metadata": {},
     "output_type": "display_data"
    }
   ],
   "source": [
    "class EjemploSiete(Scene):\n",
    "    def construct(self):\n",
    "        num = Integer(7).scale(3).set_color(BLUE)\n",
    "        self.play(FadeIn(num))\n",
    "        self.wait(1)\n",
    "\n",
    "        divisores = VGroup(*[\n",
    "            Integer(i).scale(1).next_to(num, DOWN, buff=1).shift(RIGHT*(i - 4))\n",
    "            for i in range(1, 8)\n",
    "        ])\n",
    "        self.play(LaggedStartMap(FadeIn, divisores, lag_ratio=0.2))\n",
    "        self.wait(1)\n",
    "\n",
    "        # Tachamos los que NO dividen a 7 (excepto 1 y 7)\n",
    "        for i, d in enumerate(divisores):\n",
    "            if i != 0 and i != 6:  # solo dejamos 1 y 7\n",
    "                cross = Cross(d, color=RED)\n",
    "                self.play(Create(cross), run_time=0.4)\n",
    "        self.wait(1)\n",
    "\n",
    "        conclusion = Text(\"¡Solo se puede dividir por 1 y por sí mismo!\", font_size=36)\n",
    "        conclusion.next_to(num, UP, buff=1.5)\n",
    "        self.play(Write(conclusion))\n",
    "        self.wait(2)\n",
    "        self.play(FadeOut(Group(num, divisores, conclusion)))\n",
    "%manim -ql -v WARNING EjemploSiete"
   ]
  },
  {
   "cell_type": "code",
   "execution_count": 21,
   "id": "7ca5bf52",
   "metadata": {},
   "outputs": [
    {
     "name": "stderr",
     "output_type": "stream",
     "text": [
      "                                                                                \r"
     ]
    },
    {
     "data": {
      "text/html": [
       "<video src=\"media/jupyter/EjemploOcho@2025-05-06@01-22-04.mp4\" controls autoplay loop style=\"max-width: 75%;\"  >\n",
       "      Your browser does not support the <code>video</code> element.\n",
       "    </video>"
      ],
      "text/plain": [
       "<IPython.core.display.Video object>"
      ]
     },
     "metadata": {},
     "output_type": "display_data"
    }
   ],
   "source": [
    "class EjemploOcho(Scene):\n",
    "    def construct(self):\n",
    "        num = Integer(8).scale(3).set_color(ORANGE)\n",
    "        self.play(FadeIn(num))\n",
    "        self.wait(1)\n",
    "\n",
    "        divisores = VGroup(*[\n",
    "            Integer(i).scale(1).next_to(num, DOWN, buff=1).shift(RIGHT*(i - 4))\n",
    "            for i in range(1, 9)\n",
    "        ])\n",
    "        self.play(LaggedStartMap(FadeIn, divisores, lag_ratio=0.2))\n",
    "        self.wait(1)\n",
    "\n",
    "        # Ahora resaltamos que hay más divisores\n",
    "        for i, d in enumerate(divisores):\n",
    "            if 8 % (i+1) == 0:\n",
    "                if i !=0 and i != 7:  # los divisores de 8\n",
    "                    circle = Circle(radius=0.5, color=GREEN).move_to(d)\n",
    "                    self.play(Create(circle), run_time=0.4)\n",
    "        self.wait(1)\n",
    "\n",
    "        conclusion = Text(\"Tiene más divisores... ¡no es primo!\", font_size=36)\n",
    "        conclusion.next_to(num, UP, buff=1.5)\n",
    "        self.play(Write(conclusion))\n",
    "        self.wait(2)\n",
    "        self.play(FadeOut(Group(num, divisores, conclusion)))\n",
    "%manim -ql -v WARNING EjemploOcho"
   ]
  },
  {
   "cell_type": "code",
   "execution_count": 28,
   "id": "823b1785",
   "metadata": {},
   "outputs": [
    {
     "name": "stderr",
     "output_type": "stream",
     "text": [
      "                                                                                \r"
     ]
    },
    {
     "data": {
      "text/html": [
       "<video src=\"media/jupyter/DefinicionPrimo@2025-05-06@01-29-53.mp4\" controls autoplay loop style=\"max-width: 75%;\"  >\n",
       "      Your browser does not support the <code>video</code> element.\n",
       "    </video>"
      ],
      "text/plain": [
       "<IPython.core.display.Video object>"
      ]
     },
     "metadata": {},
     "output_type": "display_data"
    }
   ],
   "source": [
    "class DefinicionPrimo(Scene):\n",
    "    def construct(self):\n",
    "        definicion = Tex(\n",
    "            r\"Un \\textbf{número primo} es un número mayor que 1,\\\\\",\n",
    "            r\"que solo se puede dividir por 1 y por sí mismo.\"\n",
    "        ).scale(0.9)\n",
    "\n",
    "        self.play(Write(definicion))\n",
    "        self.wait(3)\n",
    "        self.play(definicion.animate.to_edge(UP))\n",
    "\n",
    "        ejemplo = Tex(r\"Por ejemplo: 2, 3, 5, 7, 11, 13, 17, \\ldots\")\n",
    "        ejemplo.next_to(definicion, DOWN, buff=1)\n",
    "        self.play(FadeIn(ejemplo))\n",
    "        self.wait(3)\n",
    "\n",
    "        \n",
    "%manim -ql -v WARNING DefinicionPrimo"
   ]
  },
  {
   "cell_type": "code",
   "execution_count": null,
   "id": "e950a4bf",
   "metadata": {},
   "outputs": [],
   "source": []
  }
 ],
 "metadata": {
  "kernelspec": {
   "display_name": "Python 3 (ipykernel)",
   "language": "python",
   "name": "python3"
  },
  "language_info": {
   "codemirror_mode": {
    "name": "ipython",
    "version": 3
   },
   "file_extension": ".py",
   "mimetype": "text/x-python",
   "name": "python",
   "nbconvert_exporter": "python",
   "pygments_lexer": "ipython3",
   "version": "3.10.9"
  }
 },
 "nbformat": 4,
 "nbformat_minor": 5
}
