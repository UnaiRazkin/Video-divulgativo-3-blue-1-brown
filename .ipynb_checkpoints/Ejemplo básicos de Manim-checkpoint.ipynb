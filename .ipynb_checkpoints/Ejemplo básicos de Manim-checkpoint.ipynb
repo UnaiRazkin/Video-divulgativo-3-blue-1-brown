{
 "cells": [
  {
   "cell_type": "code",
   "execution_count": 2,
   "id": "d8ca83a4",
   "metadata": {},
   "outputs": [
    {
     "data": {
      "text/html": [
       "<pre style=\"white-space:pre;overflow-x:auto;line-height:normal;font-family:Menlo,'DejaVu Sans Mono',consolas,'Courier New',monospace\">Manim Community <span style=\"color: #008000; text-decoration-color: #008000\">v0.17.3</span>\n",
       "\n",
       "</pre>\n"
      ],
      "text/plain": [
       "Manim Community \u001b[32mv0.\u001b[0m\u001b[32m17.3\u001b[0m\n",
       "\n"
      ]
     },
     "metadata": {},
     "output_type": "display_data"
    }
   ],
   "source": [
    "from manim import *\n",
    "\n",
    "config.media_width = \"75%\"\n",
    "config.verbosity = \"WARNING\""
   ]
  },
  {
   "cell_type": "code",
   "execution_count": 25,
   "id": "9b300905",
   "metadata": {},
   "outputs": [
    {
     "name": "stderr",
     "output_type": "stream",
     "text": [
      "                                                                                \r"
     ]
    },
    {
     "data": {
      "text/html": [
       "<video src=\"media/jupyter/SquareToCircle@2023-08-13@19-57-47.mp4\" controls autoplay loop style=\"max-width: 75%;\"  >\n",
       "      Your browser does not support the <code>video</code> element.\n",
       "    </video>"
      ],
      "text/plain": [
       "<IPython.core.display.Video object>"
      ]
     },
     "metadata": {},
     "output_type": "display_data"
    }
   ],
   "source": [
    "%%manim -qm -v WARNING SquareToCircle\n",
    "\n",
    "class SquareToCircle(Scene):\n",
    "   def construct(self):\n",
    "      square = Square()\n",
    "      circle = Circle()\n",
    "      circle.set_fill(PINK, opacity=0.5)\n",
    "      self.play(Create(square))\n",
    "      self.play(Transform(square, circle))\n",
    "      self.wait()"
   ]
  },
  {
   "cell_type": "code",
   "execution_count": 3,
   "id": "14a582db",
   "metadata": {},
   "outputs": [
    {
     "name": "stderr",
     "output_type": "stream",
     "text": [
      "                                                                                \r"
     ]
    },
    {
     "data": {
      "text/html": [
       "<video src=\"media/jupyter/CountingScene@2023-08-13@20-04-01.mp4\" controls autoplay loop style=\"max-width: 75%;\"  >\n",
       "      Your browser does not support the <code>video</code> element.\n",
       "    </video>"
      ],
      "text/plain": [
       "<IPython.core.display.Video object>"
      ]
     },
     "metadata": {},
     "output_type": "display_data"
    }
   ],
   "source": [
    "%%manim -qm -v WARNING CountingScene\n",
    "class Count(Animation):\n",
    "    def __init__(self, number: DecimalNumber, start: float, end: float, **kwargs) -> None:\n",
    "        # Pass number as the mobject of the animation\n",
    "        super().__init__(number,  **kwargs)\n",
    "        # Set start and end\n",
    "        self.start = start\n",
    "        self.end = end\n",
    "\n",
    "    def interpolate_mobject(self, alpha: float) -> None:\n",
    "        # Set value of DecimalNumber according to alpha\n",
    "        value = self.start + (alpha * (self.end - self.start))\n",
    "        self.mobject.set_value(value)\n",
    "\n",
    "\n",
    "class CountingScene(Scene):\n",
    "    def construct(self):\n",
    "        # Create Decimal Number and add it to scene\n",
    "        number = DecimalNumber().set_color(WHITE).scale(5)\n",
    "        # Add an updater to keep the DecimalNumber centered as its value changes\n",
    "        number.add_updater(lambda number: number.move_to(ORIGIN))\n",
    "\n",
    "        self.add(number)\n",
    "\n",
    "        self.wait()\n",
    "\n",
    "        # Play the Count Animation to count from 0 to 100 in 4 seconds\n",
    "        self.play(Count(number, 0, 100), run_time=4, rate_func=linear)\n",
    "\n",
    "        self.wait()\n"
   ]
  },
  {
   "cell_type": "code",
   "execution_count": 23,
   "id": "bf635e3d",
   "metadata": {},
   "outputs": [
    {
     "name": "stderr",
     "output_type": "stream",
     "text": [
      "                                                                                \r"
     ]
    },
    {
     "data": {
      "text/html": [
       "<video src=\"media/jupyter/LineGraphExample@2023-08-13@20-23-40.mp4\" controls autoplay loop style=\"max-width: 75%;\"  >\n",
       "      Your browser does not support the <code>video</code> element.\n",
       "    </video>"
      ],
      "text/plain": [
       "<IPython.core.display.Video object>"
      ]
     },
     "metadata": {},
     "output_type": "display_data"
    }
   ],
   "source": [
    "%manim -ql -v WARNING LineGraphExample\n",
    "\n",
    "class LineGraphExample(Scene):\n",
    "    def construct(self):\n",
    "        plane = NumberPlane(\n",
    "            x_range = (0, 7),\n",
    "            y_range = (0, 5),\n",
    "            x_length = 7,\n",
    "            axis_config={\"include_numbers\": True},\n",
    "        )\n",
    "        line_graph = plane.plot_line_graph(\n",
    "            x_values = [0, 1.5, 2, 2.8, 4, 6.25],\n",
    "            y_values = [1, 3, 2.25, 4, 2.5, 1.75],\n",
    "            line_color=GOLD_E,\n",
    "            vertex_dot_style=dict(stroke_width=3,  fill_color=GOLD_E),\n",
    "            stroke_width = 4,\n",
    "        )\n",
    "        line_graph2 = plane.plot_line_graph(\n",
    "            x_values = [0, 1.5, 2, 2.8, 4, 6.25],\n",
    "            y_values = [1, 3, 2.25, 1, 2.5, 1.75],\n",
    "            line_color=GOLD_E,\n",
    "            vertex_dot_style=dict(stroke_width=3,  fill_color=GOLD_E),\n",
    "            stroke_width = 4,\n",
    "        )\n",
    "        self.add(plane)\n",
    "        self.play(Transform(line_graph,line_graph2))"
   ]
  },
  {
   "cell_type": "code",
   "execution_count": 25,
   "id": "80c4e08b",
   "metadata": {},
   "outputs": [
    {
     "name": "stderr",
     "output_type": "stream",
     "text": [
      "                                                                                \r"
     ]
    },
    {
     "data": {
      "text/html": [
       "<video src=\"media/jupyter/LagRatios@2023-08-13@20-30-11.mp4\" controls autoplay loop style=\"max-width: 75%;\"  >\n",
       "      Your browser does not support the <code>video</code> element.\n",
       "    </video>"
      ],
      "text/plain": [
       "<IPython.core.display.Video object>"
      ]
     },
     "metadata": {},
     "output_type": "display_data"
    }
   ],
   "source": [
    "%%manim -qm -v WARNING LagRatios\n",
    "\n",
    "from manim import *\n",
    "\n",
    "class LagRatios(Scene):\n",
    "    def construct(self):\n",
    "        ratios = [0, 0.1, 0.5, 1, 2]  # demonstrated lag_ratios\n",
    "\n",
    "        # Create dot groups\n",
    "        group = VGroup(*[Dot() for _ in range(4)]).arrange_submobjects()\n",
    "        groups = VGroup(*[group.copy() for _ in ratios]).arrange_submobjects(buff=1)\n",
    "        self.add(groups)\n",
    "\n",
    "        # Label groups\n",
    "        #self.add(Text(\"lag_ratio = \", font_size=36).next_to(groups, UP, buff=1.5))\n",
    "        for group, ratio in zip(groups, ratios):\n",
    "            self.add(Text(str(ratio), font_size=36).next_to(group, UP))\n",
    "\n",
    "        #Animate groups with different lag_ratios\n",
    "        self.play(AnimationGroup(*[\n",
    "            group.animate(lag_ratio=ratio, run_time=1.5).shift(DOWN * 2)\n",
    "            for group, ratio in zip(groups, ratios)\n",
    "        ]))\n",
    "\n",
    "        # lag_ratio also works recursively on nested submobjects:\n",
    "        self.play(groups.animate(run_time=1, lag_ratio=0.1).shift(UP * 2))"
   ]
  },
  {
   "cell_type": "code",
   "execution_count": 14,
   "id": "082eb10f",
   "metadata": {},
   "outputs": [
    {
     "ename": "NameError",
     "evalue": "name 'plane' is not defined",
     "output_type": "error",
     "traceback": [
      "\u001b[0;31m---------------------------------------------------------------------------\u001b[0m",
      "\u001b[0;31mNameError\u001b[0m                                 Traceback (most recent call last)",
      "Cell \u001b[0;32mIn[14], line 1\u001b[0m\n\u001b[0;32m----> 1\u001b[0m line_graph \u001b[38;5;241m=\u001b[39m \u001b[43mplane\u001b[49m\u001b[38;5;241m.\u001b[39mplot_line_graph(\n\u001b[1;32m      2\u001b[0m            x_values \u001b[38;5;241m=\u001b[39m [\u001b[38;5;241m0\u001b[39m, \u001b[38;5;241m1.5\u001b[39m, \u001b[38;5;241m2\u001b[39m, \u001b[38;5;241m2.8\u001b[39m, \u001b[38;5;241m4\u001b[39m, \u001b[38;5;241m6.25\u001b[39m],\n\u001b[1;32m      3\u001b[0m            y_values \u001b[38;5;241m=\u001b[39m [\u001b[38;5;241m1\u001b[39m, \u001b[38;5;241m3\u001b[39m, \u001b[38;5;241m2.25\u001b[39m, \u001b[38;5;241m4\u001b[39m, \u001b[38;5;241m2.5\u001b[39m, \u001b[38;5;241m1.75\u001b[39m],\n\u001b[1;32m      4\u001b[0m            line_color\u001b[38;5;241m=\u001b[39mGOLD_E,\n\u001b[1;32m      5\u001b[0m            vertex_dot_style\u001b[38;5;241m=\u001b[39m\u001b[38;5;28mdict\u001b[39m(stroke_width\u001b[38;5;241m=\u001b[39m\u001b[38;5;241m3\u001b[39m,  fill_color\u001b[38;5;241m=\u001b[39mPURPLE),\n\u001b[1;32m      6\u001b[0m            stroke_width \u001b[38;5;241m=\u001b[39m \u001b[38;5;241m4\u001b[39m,\n\u001b[1;32m      7\u001b[0m        )\n",
      "\u001b[0;31mNameError\u001b[0m: name 'plane' is not defined"
     ]
    }
   ],
   "source": [
    "class LineGraphExample(Scene):\n",
    "    def construct(self):\n",
    "        plane = NumberPlane(\n",
    "            x_range = (0, 7),\n",
    "            y_range = (0, 5),\n",
    "            x_length = 7,\n",
    "            axis_config={\"include_numbers\": True},\n",
    "        )\n",
    "        parabola = \n",
    "        # Animaciones\n",
    "        self.play(Create(axes), Create(parabola))\n",
    "        self.play(MoveAlongPath(dot, parabola))\n",
    "        self.wait(1)"
   ]
  },
  {
   "cell_type": "code",
   "execution_count": 29,
   "id": "9eb9e86a",
   "metadata": {},
   "outputs": [
    {
     "name": "stderr",
     "output_type": "stream",
     "text": [
      "                                                                                \r"
     ]
    },
    {
     "data": {
      "text/html": [
       "<video src=\"media/jupyter/TracedPathExample@2023-08-13@20-37-50.mp4\" controls autoplay loop style=\"max-width: 75%;\"  >\n",
       "      Your browser does not support the <code>video</code> element.\n",
       "    </video>"
      ],
      "text/plain": [
       "<IPython.core.display.Video object>"
      ]
     },
     "metadata": {},
     "output_type": "display_data"
    }
   ],
   "source": [
    "%manim -ql -v WARNING TracedPathExample\n",
    "class TracedPathExample(Scene):\n",
    "    def construct(self):\n",
    "        circ = Circle(color=RED).shift(4*LEFT)\n",
    "        dot = Dot(color=RED).move_to(circ.get_start())\n",
    "        rolling_circle = VGroup(circ, dot)\n",
    "        trace = TracedPath(circ.get_start)\n",
    "        rolling_circle.add_updater(lambda m: m.rotate(-0.3))\n",
    "        self.add(trace, rolling_circle)\n",
    "        self.play(rolling_circle.animate.shift(8*RIGHT), run_time=4, rate_func=linear)"
   ]
  },
  {
   "cell_type": "code",
   "execution_count": 35,
   "id": "c4f394cc",
   "metadata": {},
   "outputs": [
    {
     "name": "stderr",
     "output_type": "stream",
     "text": [
      "                                                                                \r"
     ]
    },
    {
     "data": {
      "text/html": [
       "<video src=\"media/jupyter/DissipatingPathExample@2023-08-13@20-39-53.mp4\" controls autoplay loop style=\"max-width: 75%;\"  >\n",
       "      Your browser does not support the <code>video</code> element.\n",
       "    </video>"
      ],
      "text/plain": [
       "<IPython.core.display.Video object>"
      ]
     },
     "metadata": {},
     "output_type": "display_data"
    }
   ],
   "source": [
    "%manim -ql -v WARNING DissipatingPathExample\n",
    "\n",
    "class DissipatingPathExample(Scene):\n",
    "    def construct(self):\n",
    "        a = Dot(RIGHT * 2)\n",
    "        b = TracedPath(a.get_center, dissipating_time=0.5, stroke_opacity=[0, 1])\n",
    "        self.add(a, b)\n",
    "        self.play(a.animate(path_arc=PI / 4).shift(LEFT * 2))\n",
    "        self.play(a.animate(path_arc=-PI / 4).shift(LEFT * 2))\n",
    "        self.wait()"
   ]
  },
  {
   "cell_type": "code",
   "execution_count": 37,
   "id": "d4cac81b",
   "metadata": {},
   "outputs": [
    {
     "name": "stderr",
     "output_type": "stream",
     "text": [
      "                                                                                \r"
     ]
    },
    {
     "data": {
      "text/html": [
       "<video src=\"media/jupyter/SuccessionExample@2023-08-13@20-44-12.mp4\" controls autoplay loop style=\"max-width: 75%;\"  >\n",
       "      Your browser does not support the <code>video</code> element.\n",
       "    </video>"
      ],
      "text/plain": [
       "<IPython.core.display.Video object>"
      ]
     },
     "metadata": {},
     "output_type": "display_data"
    }
   ],
   "source": [
    "%manim -ql -v WARNING SuccessionExample\n",
    "\n",
    "from manim import *\n",
    "\n",
    "class SuccessionExample(Scene):\n",
    "    def construct(self):\n",
    "        dot1 = Dot(point=LEFT * 2 + UP * 2, radius=0.16, color=BLUE)\n",
    "        dot2 = Dot(point=LEFT * 2 + DOWN * 2, radius=0.16, color=MAROON)\n",
    "        dot3 = Dot(point=RIGHT * 2 + DOWN * 2, radius=0.16, color=GREEN)\n",
    "        dot4 = Dot(point=RIGHT * 2 + UP * 2, radius=0.16, color=YELLOW)\n",
    "        self.add(dot1, dot2, dot3, dot4)\n",
    "\n",
    "        self.play(Succession(\n",
    "            dot1.animate.move_to(dot2),\n",
    "            dot2.animate.move_to(dot3),\n",
    "            dot3.animate.move_to(dot4),\n",
    "            dot4.animate.move_to(dot1)\n",
    "        ))"
   ]
  },
  {
   "cell_type": "code",
   "execution_count": 61,
   "id": "e60fc730",
   "metadata": {
    "scrolled": true
   },
   "outputs": [
    {
     "name": "stderr",
     "output_type": "stream",
     "text": [
      "                                                                                \r"
     ]
    },
    {
     "data": {
      "text/html": [
       "<video src=\"media/jupyter/ShowDrawBorderThenFill@2023-08-13@21-58-32.mp4\" controls autoplay loop style=\"max-width: 75%;\"  >\n",
       "      Your browser does not support the <code>video</code> element.\n",
       "    </video>"
      ],
      "text/plain": [
       "<IPython.core.display.Video object>"
      ]
     },
     "metadata": {},
     "output_type": "display_data"
    }
   ],
   "source": [
    "%manim -ql -v WARNING ShowDrawBorderThenFill\n",
    "\n",
    "from manim import *\n",
    "\n",
    "class ShowDrawBorderThenFill(Scene):\n",
    "    def construct(self):\n",
    "        text = Text('Unai Razkin').scale(3)\n",
    "        self.play(DrawBorderThenFill(text))\n",
    "        self.play(ApplyWave(text))\n",
    "        self.play(Unwrite(text))"
   ]
  },
  {
   "cell_type": "code",
   "execution_count": 48,
   "id": "a463265b",
   "metadata": {},
   "outputs": [
    {
     "name": "stderr",
     "output_type": "stream",
     "text": [
      "                                                                                \r"
     ]
    },
    {
     "data": {
      "text/html": [
       "<video src=\"media/jupyter/Indications@2023-08-13@20-57-51.mp4\" controls autoplay loop style=\"max-width: 75%;\"  >\n",
       "      Your browser does not support the <code>video</code> element.\n",
       "    </video>"
      ],
      "text/plain": [
       "<IPython.core.display.Video object>"
      ]
     },
     "metadata": {},
     "output_type": "display_data"
    }
   ],
   "source": [
    "%manim -ql -v WARNING Indications\n",
    "\n",
    "class Indications(Scene):\n",
    "    def construct(self):\n",
    "        indications = [ApplyWave,Circumscribe,Flash,FocusOn,Indicate,ShowPassingFlash,Wiggle]\n",
    "        names = [Tex(i.__name__).scale(3) for i in indications]\n",
    "\n",
    "        self.add(names[0])\n",
    "        for i in range(len(names)):\n",
    "            if indications[i] is Flash:\n",
    "                self.play(Flash(UP))\n",
    "            elif indications[i] is ShowPassingFlash:\n",
    "                self.play(ShowPassingFlash(Underline(names[i])))\n",
    "            else:\n",
    "                self.play(indications[i](names[i]))\n",
    "            self.play(AnimationGroup(\n",
    "                FadeOut(names[i], shift=UP*1.5),\n",
    "                FadeIn(names[(i+1)%len(names)], shift=UP*1.5),\n",
    "            ))"
   ]
  },
  {
   "cell_type": "code",
   "execution_count": 58,
   "id": "7de554ba",
   "metadata": {},
   "outputs": [],
   "source": [
    "from manim import *\n",
    "\n",
    "class TimeWidthValues(Scene):\n",
    "    def construct(self):\n",
    "        p = RegularPolygon(5, color=DARK_GRAY, stroke_width=6).scale(3)\n",
    "        lbl = VMobject()\n",
    "        self.add(p, lbl)\n",
    "        p = p.copy().set_color(BLUE)\n",
    "        for time_width in [0.2, 0.5, 1, 2]:\n",
    "            lbl.become(Tex(r\"\\texttt{time\\_width={{%.1f}}}\"%time_width))\n",
    "            self.play(ShowPassingFlash(\n",
    "                p.copy().set_color(BLUE),\n",
    "                run_time=2,\n",
    "                time_width=time_width\n",
    "            ))"
   ]
  },
  {
   "cell_type": "code",
   "execution_count": 63,
   "id": "fc6b4811",
   "metadata": {},
   "outputs": [],
   "source": [
    "class MoveAlongPathExample(Scene):\n",
    "    def construct(self):\n",
    "        d1 = Dot().set_color(ORANGE)\n",
    "        l1 = Line(LEFT, RIGHT)\n",
    "        l2 = VMobject()\n",
    "        self.add(d1, l1, l2)\n",
    "        l2.add_updater(lambda x: x.become(Line(LEFT, d1.get_center()).set_color(ORANGE)))\n",
    "        self.play(MoveAlongPath(d1, l1), rate_func=linear)"
   ]
  },
  {
   "cell_type": "code",
   "execution_count": 64,
   "id": "9968f894",
   "metadata": {},
   "outputs": [],
   "source": [
    "class ApplyMatrixExample(Scene):\n",
    "    def construct(self):\n",
    "        matrix = [[1, 1], [0, 2/3]]\n",
    "        self.play(ApplyMatrix(matrix, Text(\"Hello World!\")), ApplyMatrix(matrix, NumberPlane()))"
   ]
  },
  {
   "cell_type": "code",
   "execution_count": 65,
   "id": "ab8f4a26",
   "metadata": {},
   "outputs": [],
   "source": [
    "class WarpSquare(Scene):\n",
    "    def construct(self):\n",
    "        square = Square()\n",
    "        self.play(\n",
    "            ApplyPointwiseFunction(\n",
    "                lambda point: complex_to_R3(np.exp(R3_to_complex(point))), square\n",
    "            )\n",
    "        )\n",
    "        self.wait()"
   ]
  },
  {
   "cell_type": "code",
   "execution_count": 70,
   "id": "a88e122e",
   "metadata": {},
   "outputs": [],
   "source": [
    "class Anagram(Scene):\n",
    "    def construct(self):\n",
    "        src = Text(\"Leire\")\n",
    "        tar = Text(\"Maribel\")\n",
    "        self.play(Write(src))\n",
    "        self.wait(0.5)\n",
    "        self.play(TransformMatchingShapes(src, tar, path_arc=PI/2))\n",
    "        self.wait(0.5)"
   ]
  },
  {
   "cell_type": "code",
   "execution_count": 73,
   "id": "61081014",
   "metadata": {},
   "outputs": [],
   "source": [
    "class MatchingEquationParts(Scene):\n",
    "    def construct(self):\n",
    "        variables = VGroup(MathTex(\"a\"), MathTex(\"b\"), MathTex(\"c\")).arrange_submobjects().shift(UP)\n",
    "\n",
    "        eq1 = MathTex(\"{{x}}^2\", \"+\", \"{{y}}^2\", \"=\", \"{{z}}^2\")\n",
    "        eq2 = MathTex(\"{{a}}^2\", \"+\", \"{{b}}^2\", \"=\", \"{{c}}^2\")\n",
    "        eq3 = MathTex(\"{{a}}^2\", \"=\", \"{{c}}^2\", \"-\", \"{{b}}^2\")\n",
    "\n",
    "        self.add(eq1)\n",
    "        self.wait(0.5)\n",
    "        self.play(TransformMatchingTex(Group(eq1, variables), eq2))\n",
    "        self.wait(0.5)\n",
    "        self.play(TransformMatchingTex(eq2, eq3))\n",
    "        self.wait(0.5)"
   ]
  },
  {
   "cell_type": "code",
   "execution_count": 74,
   "id": "291fa071",
   "metadata": {},
   "outputs": [
    {
     "name": "stderr",
     "output_type": "stream",
     "text": [
      "                                                                                \r"
     ]
    },
    {
     "data": {
      "text/html": [
       "<video src=\"media/jupyter/MatchingEquationParts@2023-08-13@22-40-32.mp4\" controls autoplay loop style=\"max-width: 75%;\"  >\n",
       "      Your browser does not support the <code>video</code> element.\n",
       "    </video>"
      ],
      "text/plain": [
       "<IPython.core.display.Video object>"
      ]
     },
     "metadata": {},
     "output_type": "display_data"
    }
   ],
   "source": [
    "%manim -ql -v WARNING MatchingEquationParts"
   ]
  },
  {
   "cell_type": "code",
   "execution_count": null,
   "id": "46e75119",
   "metadata": {},
   "outputs": [],
   "source": [
    "class TracedPathExample(Scene):\n",
    "    def construct(self):\n",
    "        circ = Circle(color=RED).shift(4*LEFT)\n",
    "        dot = Dot(color=RED).move_to(circ.get_start())\n",
    "        rolling_circle = VGroup(circ, dot)\n",
    "        trace = TracedPath(circ.get_start)\n",
    "        rolling_circle.add_updater(lambda m: m.rotate(-0.3))\n",
    "        self.add(trace, rolling_circle)\n",
    "        self.play(rolling_circle.animate.shift(8*RIGHT), run_time=4, rate_func=linear)"
   ]
  },
  {
   "cell_type": "code",
   "execution_count": 75,
   "id": "7df8d1b6",
   "metadata": {},
   "outputs": [],
   "source": [
    "class DodecahedronScene(ThreeDScene):\n",
    "    def construct(self):\n",
    "        self.set_camera_orientation(phi=75 * DEGREES, theta=30 * DEGREES)\n",
    "        obj = Dodecahedron()\n",
    "        self.add(obj)"
   ]
  },
  {
   "cell_type": "code",
   "execution_count": null,
   "id": "4dc68906",
   "metadata": {},
   "outputs": [],
   "source": []
  }
 ],
 "metadata": {
  "kernelspec": {
   "display_name": "Python 3 (ipykernel)",
   "language": "python",
   "name": "python3"
  },
  "language_info": {
   "codemirror_mode": {
    "name": "ipython",
    "version": 3
   },
   "file_extension": ".py",
   "mimetype": "text/x-python",
   "name": "python",
   "nbconvert_exporter": "python",
   "pygments_lexer": "ipython3",
   "version": "3.10.9"
  }
 },
 "nbformat": 4,
 "nbformat_minor": 5
}
